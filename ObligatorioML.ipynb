{
  "nbformat": 4,
  "nbformat_minor": 0,
  "metadata": {
    "colab": {
      "provenance": []
    },
    "kernelspec": {
      "name": "python3",
      "display_name": "Python 3"
    },
    "language_info": {
      "name": "python"
    },
    "accelerator": "GPU",
    "gpuClass": "standard"
  },
  "cells": [
    {
      "cell_type": "code",
      "execution_count": 150,
      "metadata": {
        "id": "3domVYVFeD2o",
        "colab": {
          "base_uri": "https://localhost:8080/"
        },
        "outputId": "4252abf8-679b-431c-96ce-6a9de8b2f4ed"
      },
      "outputs": [
        {
          "output_type": "stream",
          "name": "stderr",
          "text": [
            "[nltk_data] Downloading package stopwords to /root/nltk_data...\n",
            "[nltk_data]   Package stopwords is already up-to-date!\n"
          ]
        },
        {
          "output_type": "execute_result",
          "data": {
            "text/plain": [
              "True"
            ]
          },
          "metadata": {},
          "execution_count": 150
        }
      ],
      "source": [
        "# Importar librerias\n",
        "import datetime\n",
        "import tensorflow.keras as keras\n",
        "import numpy as np\n",
        "import pandas as pd\n",
        "import nltk\n",
        "import re\n",
        "from sklearn.feature_extraction.text import CountVectorizer\n",
        "from sklearn.feature_extraction.text import TfidfVectorizer\n",
        "from sklearn.model_selection import train_test_split\n",
        "from sklearn.linear_model import LinearRegression\n",
        "from sklearn.metrics import classification_report\n",
        "from sklearn.tree import DecisionTreeClassifier\n",
        "from sklearn.ensemble import BaggingClassifier\n",
        "from sklearn.ensemble import RandomForestClassifier\n",
        "from sklearn.ensemble import AdaBoostClassifier\n",
        "from sklearn.preprocessing import StandardScaler\n",
        "from sklearn.pipeline import Pipeline\n",
        "from sklearn.ensemble import GradientBoostingClassifier\n",
        "from scipy.sparse import hstack\n",
        "from tensorflow.keras.models import Sequential\n",
        "from tensorflow.keras.layers import Activation, Dense, Embedding, Flatten, Dropout\n",
        "from tensorflow.keras.optimizers import SGD, Adam\n",
        "from tensorflow.random import set_seed\n",
        "from keras.preprocessing.text import Tokenizer\n",
        "from tensorflow.keras.preprocessing.sequence import pad_sequences\n",
        "\n",
        "nltk.download('stopwords')"
      ]
    },
    {
      "cell_type": "code",
      "source": [],
      "metadata": {
        "id": "C7z7fj40FsbG"
      },
      "execution_count": null,
      "outputs": []
    },
    {
      "cell_type": "code",
      "source": [
        "corpus = pd.read_csv('/content/obligatorio.csv', index_col = 0)\n",
        "corpus['label'].value_counts()"
      ],
      "metadata": {
        "id": "AtnAzvC657BE",
        "colab": {
          "base_uri": "https://localhost:8080/"
        },
        "outputId": "bc26d37d-1fdd-44cd-fa12-61806a510da1"
      },
      "execution_count": 4,
      "outputs": [
        {
          "output_type": "execute_result",
          "data": {
            "text/plain": [
              "real    4480\n",
              "fake    4080\n",
              "Name: label, dtype: int64"
            ]
          },
          "metadata": {},
          "execution_count": 4
        }
      ]
    },
    {
      "cell_type": "code",
      "source": [
        "test = pd.read_csv('/content/test_without_label.csv', index_col = 0)"
      ],
      "metadata": {
        "id": "jzpqX-o97U6v"
      },
      "execution_count": 5,
      "outputs": []
    },
    {
      "cell_type": "code",
      "source": [
        "# Return top n (5 by default) rows of a data frame. \n",
        "corpus.head()"
      ],
      "metadata": {
        "id": "Dlvgi50z7vst",
        "colab": {
          "base_uri": "https://localhost:8080/",
          "height": 237
        },
        "outputId": "e9f38deb-b5df-4c01-cbca-543388a2db96"
      },
      "execution_count": 6,
      "outputs": [
        {
          "output_type": "execute_result",
          "data": {
            "text/plain": [
              "                                                tweet label\n",
              "id                                                         \n",
              "1   Chinese converting to Islam after realising th...  fake\n",
              "2   11 out of 13 people (from the Diamond Princess...  fake\n",
              "3   COVID-19 Is Caused By A Bacterium, Not Virus A...  fake\n",
              "4   Mike Pence in RNC speech praises Donald Trump’...  fake\n",
              "5   6/10 Sky's @EdConwaySky explains the latest #C...  real"
            ],
            "text/html": [
              "\n",
              "  <div id=\"df-34b1bf44-957c-47a8-9a70-0fa056ca504c\">\n",
              "    <div class=\"colab-df-container\">\n",
              "      <div>\n",
              "<style scoped>\n",
              "    .dataframe tbody tr th:only-of-type {\n",
              "        vertical-align: middle;\n",
              "    }\n",
              "\n",
              "    .dataframe tbody tr th {\n",
              "        vertical-align: top;\n",
              "    }\n",
              "\n",
              "    .dataframe thead th {\n",
              "        text-align: right;\n",
              "    }\n",
              "</style>\n",
              "<table border=\"1\" class=\"dataframe\">\n",
              "  <thead>\n",
              "    <tr style=\"text-align: right;\">\n",
              "      <th></th>\n",
              "      <th>tweet</th>\n",
              "      <th>label</th>\n",
              "    </tr>\n",
              "    <tr>\n",
              "      <th>id</th>\n",
              "      <th></th>\n",
              "      <th></th>\n",
              "    </tr>\n",
              "  </thead>\n",
              "  <tbody>\n",
              "    <tr>\n",
              "      <th>1</th>\n",
              "      <td>Chinese converting to Islam after realising th...</td>\n",
              "      <td>fake</td>\n",
              "    </tr>\n",
              "    <tr>\n",
              "      <th>2</th>\n",
              "      <td>11 out of 13 people (from the Diamond Princess...</td>\n",
              "      <td>fake</td>\n",
              "    </tr>\n",
              "    <tr>\n",
              "      <th>3</th>\n",
              "      <td>COVID-19 Is Caused By A Bacterium, Not Virus A...</td>\n",
              "      <td>fake</td>\n",
              "    </tr>\n",
              "    <tr>\n",
              "      <th>4</th>\n",
              "      <td>Mike Pence in RNC speech praises Donald Trump’...</td>\n",
              "      <td>fake</td>\n",
              "    </tr>\n",
              "    <tr>\n",
              "      <th>5</th>\n",
              "      <td>6/10 Sky's @EdConwaySky explains the latest #C...</td>\n",
              "      <td>real</td>\n",
              "    </tr>\n",
              "  </tbody>\n",
              "</table>\n",
              "</div>\n",
              "      <button class=\"colab-df-convert\" onclick=\"convertToInteractive('df-34b1bf44-957c-47a8-9a70-0fa056ca504c')\"\n",
              "              title=\"Convert this dataframe to an interactive table.\"\n",
              "              style=\"display:none;\">\n",
              "        \n",
              "  <svg xmlns=\"http://www.w3.org/2000/svg\" height=\"24px\"viewBox=\"0 0 24 24\"\n",
              "       width=\"24px\">\n",
              "    <path d=\"M0 0h24v24H0V0z\" fill=\"none\"/>\n",
              "    <path d=\"M18.56 5.44l.94 2.06.94-2.06 2.06-.94-2.06-.94-.94-2.06-.94 2.06-2.06.94zm-11 1L8.5 8.5l.94-2.06 2.06-.94-2.06-.94L8.5 2.5l-.94 2.06-2.06.94zm10 10l.94 2.06.94-2.06 2.06-.94-2.06-.94-.94-2.06-.94 2.06-2.06.94z\"/><path d=\"M17.41 7.96l-1.37-1.37c-.4-.4-.92-.59-1.43-.59-.52 0-1.04.2-1.43.59L10.3 9.45l-7.72 7.72c-.78.78-.78 2.05 0 2.83L4 21.41c.39.39.9.59 1.41.59.51 0 1.02-.2 1.41-.59l7.78-7.78 2.81-2.81c.8-.78.8-2.07 0-2.86zM5.41 20L4 18.59l7.72-7.72 1.47 1.35L5.41 20z\"/>\n",
              "  </svg>\n",
              "      </button>\n",
              "      \n",
              "  <style>\n",
              "    .colab-df-container {\n",
              "      display:flex;\n",
              "      flex-wrap:wrap;\n",
              "      gap: 12px;\n",
              "    }\n",
              "\n",
              "    .colab-df-convert {\n",
              "      background-color: #E8F0FE;\n",
              "      border: none;\n",
              "      border-radius: 50%;\n",
              "      cursor: pointer;\n",
              "      display: none;\n",
              "      fill: #1967D2;\n",
              "      height: 32px;\n",
              "      padding: 0 0 0 0;\n",
              "      width: 32px;\n",
              "    }\n",
              "\n",
              "    .colab-df-convert:hover {\n",
              "      background-color: #E2EBFA;\n",
              "      box-shadow: 0px 1px 2px rgba(60, 64, 67, 0.3), 0px 1px 3px 1px rgba(60, 64, 67, 0.15);\n",
              "      fill: #174EA6;\n",
              "    }\n",
              "\n",
              "    [theme=dark] .colab-df-convert {\n",
              "      background-color: #3B4455;\n",
              "      fill: #D2E3FC;\n",
              "    }\n",
              "\n",
              "    [theme=dark] .colab-df-convert:hover {\n",
              "      background-color: #434B5C;\n",
              "      box-shadow: 0px 1px 3px 1px rgba(0, 0, 0, 0.15);\n",
              "      filter: drop-shadow(0px 1px 2px rgba(0, 0, 0, 0.3));\n",
              "      fill: #FFFFFF;\n",
              "    }\n",
              "  </style>\n",
              "\n",
              "      <script>\n",
              "        const buttonEl =\n",
              "          document.querySelector('#df-34b1bf44-957c-47a8-9a70-0fa056ca504c button.colab-df-convert');\n",
              "        buttonEl.style.display =\n",
              "          google.colab.kernel.accessAllowed ? 'block' : 'none';\n",
              "\n",
              "        async function convertToInteractive(key) {\n",
              "          const element = document.querySelector('#df-34b1bf44-957c-47a8-9a70-0fa056ca504c');\n",
              "          const dataTable =\n",
              "            await google.colab.kernel.invokeFunction('convertToInteractive',\n",
              "                                                     [key], {});\n",
              "          if (!dataTable) return;\n",
              "\n",
              "          const docLinkHtml = 'Like what you see? Visit the ' +\n",
              "            '<a target=\"_blank\" href=https://colab.research.google.com/notebooks/data_table.ipynb>data table notebook</a>'\n",
              "            + ' to learn more about interactive tables.';\n",
              "          element.innerHTML = '';\n",
              "          dataTable['output_type'] = 'display_data';\n",
              "          await google.colab.output.renderOutput(dataTable, element);\n",
              "          const docLink = document.createElement('div');\n",
              "          docLink.innerHTML = docLinkHtml;\n",
              "          element.appendChild(docLink);\n",
              "        }\n",
              "      </script>\n",
              "    </div>\n",
              "  </div>\n",
              "  "
            ]
          },
          "metadata": {},
          "execution_count": 6
        }
      ]
    },
    {
      "cell_type": "code",
      "source": [
        "X = corpus['tweet'] \n",
        "Y = corpus['label']"
      ],
      "metadata": {
        "id": "RPD9OGyi8Fiy"
      },
      "execution_count": 312,
      "outputs": []
    },
    {
      "cell_type": "code",
      "source": [
        "X_test = test[\"tweet\"]"
      ],
      "metadata": {
        "id": "rMRFkSxLD36t"
      },
      "execution_count": 313,
      "outputs": []
    },
    {
      "cell_type": "code",
      "source": [
        "X_train, X_val, y_train, y_val = train_test_split(X, Y, test_size = 0.2, random_state = 1) "
      ],
      "metadata": {
        "id": "TWHD2VunEBNW"
      },
      "execution_count": 314,
      "outputs": []
    },
    {
      "cell_type": "code",
      "source": [
        "vectorizer = CountVectorizer()"
      ],
      "metadata": {
        "id": "A2K3Ia5YUhsT"
      },
      "execution_count": null,
      "outputs": []
    },
    {
      "cell_type": "code",
      "source": [
        "vectorizer.fit(X_train)\n",
        "X_train = vectorizer.transform(X_train)\n",
        "X_val = vectorizer.transform(X_val)"
      ],
      "metadata": {
        "id": "rGR3tCfsUmvT"
      },
      "execution_count": null,
      "outputs": []
    },
    {
      "cell_type": "code",
      "source": [
        "X_test = vectorizer.transform(X_test)"
      ],
      "metadata": {
        "id": "fzVDOXXVcYCn"
      },
      "execution_count": null,
      "outputs": []
    },
    {
      "cell_type": "code",
      "source": [
        "tablero = pd.DataFrame(X_train.toarray(), columns=vectorizer.get_feature_names_out())\n",
        "tablero"
      ],
      "metadata": {
        "id": "8mafwyHAcfaP"
      },
      "execution_count": null,
      "outputs": []
    },
    {
      "cell_type": "markdown",
      "source": [
        "**Classifiers**"
      ],
      "metadata": {
        "id": "VO91StcOpBu4"
      }
    },
    {
      "cell_type": "code",
      "execution_count": null,
      "metadata": {
        "id": "MvBNTO7NTszK"
      },
      "outputs": [],
      "source": [
        "# Decision Tree Classifier\n",
        "\n",
        "tree = DecisionTreeClassifier()\n",
        "\n",
        "_ = tree.fit(tablero, y_train)  \n",
        "\n",
        "y_pred_tree = tree.predict(X_val)\n",
        "\n",
        "y_pred_tree_train = tree.predict(X_train)"
      ]
    },
    {
      "cell_type": "code",
      "source": [
        "report = classification_report(y_val, y_pred_tree, digits=4)\n",
        "print(report)"
      ],
      "metadata": {
        "id": "TJxS2UJViHoh"
      },
      "execution_count": null,
      "outputs": []
    },
    {
      "cell_type": "code",
      "source": [
        "report = classification_report(y_train, y_pred_tree_train, digits=4)\n",
        "print(report)"
      ],
      "metadata": {
        "id": "DzkvR0yC7-fj"
      },
      "execution_count": null,
      "outputs": []
    },
    {
      "cell_type": "code",
      "source": [
        "#Baggin Classifier\n",
        "\n",
        "bagging_tree = BaggingClassifier(DecisionTreeClassifier())\n",
        "\n",
        "_ = bagging_tree.fit(tablero, y_train)\n",
        "\n",
        "y_pred_bagging_tree = bagging_tree.predict(X_val)\n",
        "\n",
        "y_pred_bagging_train = bagging_tree.predict(X_train)"
      ],
      "metadata": {
        "id": "pLdUrZtdb_7c"
      },
      "execution_count": null,
      "outputs": []
    },
    {
      "cell_type": "code",
      "execution_count": null,
      "metadata": {
        "id": "dLeR53qaTszL"
      },
      "outputs": [],
      "source": [
        "report = classification_report(y_val, y_pred_bagging_tree, digits=4)\n",
        "print(report)"
      ]
    },
    {
      "cell_type": "code",
      "source": [
        "report = classification_report(y_train, y_pred_bagging_train, digits=4)\n",
        "print(report)"
      ],
      "metadata": {
        "id": "JBwN5Pkv8nnq"
      },
      "execution_count": null,
      "outputs": []
    },
    {
      "cell_type": "code",
      "source": [
        "#Random Forest Classifier\n",
        "\n",
        "rf = RandomForestClassifier()\n",
        "\n",
        "_ = rf.fit(tablero, y_train)\n",
        "\n",
        "y_pred_rf = rf.predict(X_val)\n",
        "\n",
        "y_pred_rf_train = rf.predict(X_train)"
      ],
      "metadata": {
        "id": "bsNXOxX3i9n4",
        "colab": {
          "base_uri": "https://localhost:8080/"
        },
        "outputId": "fae87b0b-1a90-48a9-d282-d6c799932b8a"
      },
      "execution_count": 363,
      "outputs": [
        {
          "output_type": "stream",
          "name": "stderr",
          "text": [
            "/usr/local/lib/python3.8/dist-packages/sklearn/base.py:450: UserWarning: X does not have valid feature names, but RandomForestClassifier was fitted with feature names\n",
            "  warnings.warn(\n"
          ]
        }
      ]
    },
    {
      "cell_type": "code",
      "source": [
        "report = classification_report(y_val, y_pred_rf, digits=4)\n",
        "print(report)"
      ],
      "metadata": {
        "id": "ed-75vxrkeVY",
        "colab": {
          "base_uri": "https://localhost:8080/"
        },
        "outputId": "4b403ce2-8c17-4927-b6ba-d01d05c58641"
      },
      "execution_count": 364,
      "outputs": [
        {
          "output_type": "stream",
          "name": "stdout",
          "text": [
            "              precision    recall  f1-score   support\n",
            "\n",
            "        fake     0.9478    0.9214    0.9344       827\n",
            "        real     0.9284    0.9525    0.9403       885\n",
            "\n",
            "    accuracy                         0.9375      1712\n",
            "   macro avg     0.9381    0.9370    0.9374      1712\n",
            "weighted avg     0.9378    0.9375    0.9375      1712\n",
            "\n"
          ]
        }
      ]
    },
    {
      "cell_type": "code",
      "source": [
        "report = classification_report(y_train, y_pred_rf_train, digits=4)\n",
        "print(report)"
      ],
      "metadata": {
        "id": "P1yWWH8x8ssJ"
      },
      "execution_count": null,
      "outputs": []
    },
    {
      "cell_type": "code",
      "source": [
        "# Ada Boost Classifier\n",
        "\n",
        "ada = AdaBoostClassifier(n_estimators=100, learning_rate=0.5)\n",
        "\n",
        "_ = ada.fit(tablero, y_train)\n",
        "\n",
        "y_pred_ada = ada.predict(X_val)\n",
        "\n",
        "y_pred_ada_train = ada.predict(X_train)"
      ],
      "metadata": {
        "id": "IpBg1dfDk4L5"
      },
      "execution_count": null,
      "outputs": []
    },
    {
      "cell_type": "code",
      "source": [
        "report = classification_report(y_val, y_pred_ada, digits=4)\n",
        "print(report)"
      ],
      "metadata": {
        "id": "NKajXcLSmXTa"
      },
      "execution_count": null,
      "outputs": []
    },
    {
      "cell_type": "code",
      "source": [
        "report = classification_report(y_train, y_pred_ada_train, digits=4)\n",
        "print(report)"
      ],
      "metadata": {
        "id": "7PTzznFS8v4C"
      },
      "execution_count": null,
      "outputs": []
    },
    {
      "cell_type": "code",
      "source": [
        "# Gradient Classifier\n",
        "\n",
        "gradient = GradientBoostingClassifier()\n",
        "\n",
        "_ = gradient.fit(X_train, y_train) \n",
        "\n",
        "y_pred_gradient = gradient.predict(X_val)\n",
        "\n",
        "y_pred_gradient_train = gradient.predict(X_train)"
      ],
      "metadata": {
        "id": "C7w78TbTmqIS"
      },
      "execution_count": null,
      "outputs": []
    },
    {
      "cell_type": "code",
      "execution_count": null,
      "metadata": {
        "id": "6QatWc9JTszN"
      },
      "outputs": [],
      "source": [
        "report = classification_report(y_val, y_pred_gradient, digits=4)\n",
        "print(report)"
      ]
    },
    {
      "cell_type": "code",
      "source": [
        "report = classification_report(y_train, y_pred_gradient_train, digits=4)\n",
        "print(report)"
      ],
      "metadata": {
        "id": "DBsclEPa8yUX"
      },
      "execution_count": null,
      "outputs": []
    },
    {
      "cell_type": "markdown",
      "source": [
        "**Deep Learning**"
      ],
      "metadata": {
        "id": "RCtzuJDqq_CF"
      }
    },
    {
      "cell_type": "code",
      "source": [
        "set_seed(1)"
      ],
      "metadata": {
        "id": "okty8HOM_V6K"
      },
      "execution_count": 335,
      "outputs": []
    },
    {
      "cell_type": "code",
      "source": [
        "maxlen = 900\n",
        "\n",
        "tokenizer = Tokenizer()\n",
        "\n",
        "tokenizer.fit_on_texts(X_train)\n",
        "\n",
        "X_train_sequences = tokenizer.texts_to_sequences(X_train)\n",
        "X_train_padded_seq = pad_sequences(X_train_sequences, truncating = 'post', padding ='post', maxlen = maxlen)\n",
        "\n",
        "y_train_dl = np.where(y_train == \"real\", 1, 0)"
      ],
      "metadata": {
        "id": "6tT6-sz5_qma"
      },
      "execution_count": 346,
      "outputs": []
    },
    {
      "cell_type": "code",
      "source": [
        "maxlen = 900\n",
        "\n",
        "tokenizer = Tokenizer()\n",
        "\n",
        "tokenizer.fit_on_texts(X_val)\n",
        "\n",
        "X_val_sequences = tokenizer.texts_to_sequences(X_val)\n",
        "X_val_padded_seq = pad_sequences(X_val_sequences, truncating = 'post', padding ='post', maxlen = maxlen)\n",
        "\n",
        "y_val_dl = np.where(y_val == \"real\", 1, 0)"
      ],
      "metadata": {
        "id": "3VbEFyrhqrSS"
      },
      "execution_count": 342,
      "outputs": []
    },
    {
      "cell_type": "code",
      "source": [
        "model = Sequential()\n",
        "model.add(Embedding(5000, 8, input_length=maxlen))\n",
        "model.add(Flatten())\n",
        "model.add(Dense(4))\n",
        "model.add(Dropout(0.2)) \n",
        "model.add(Dense(2))\n",
        "model.add(Dropout(0.3))\n",
        "model.add(Activation(\"relu\"))\n",
        "model.add(Dense(1))\n",
        "model.add(Activation(\"sigmoid\"))\n",
        "\n",
        "model.summary()"
      ],
      "metadata": {
        "colab": {
          "base_uri": "https://localhost:8080/"
        },
        "id": "D6E8rH5Wi0w2",
        "outputId": "b9dc8353-ab2e-4c72-802f-d28a7d497bf6"
      },
      "execution_count": 343,
      "outputs": [
        {
          "output_type": "stream",
          "name": "stdout",
          "text": [
            "Model: \"sequential_45\"\n",
            "_________________________________________________________________\n",
            " Layer (type)                Output Shape              Param #   \n",
            "=================================================================\n",
            " embedding_39 (Embedding)    (None, 900, 8)            40000     \n",
            "                                                                 \n",
            " flatten_32 (Flatten)        (None, 7200)              0         \n",
            "                                                                 \n",
            " dense_87 (Dense)            (None, 4)                 28804     \n",
            "                                                                 \n",
            " dropout_51 (Dropout)        (None, 4)                 0         \n",
            "                                                                 \n",
            " dense_88 (Dense)            (None, 2)                 10        \n",
            "                                                                 \n",
            " dropout_52 (Dropout)        (None, 2)                 0         \n",
            "                                                                 \n",
            " activation_65 (Activation)  (None, 2)                 0         \n",
            "                                                                 \n",
            " dense_89 (Dense)            (None, 1)                 3         \n",
            "                                                                 \n",
            " activation_66 (Activation)  (None, 1)                 0         \n",
            "                                                                 \n",
            "=================================================================\n",
            "Total params: 68,817\n",
            "Trainable params: 68,817\n",
            "Non-trainable params: 0\n",
            "_________________________________________________________________\n"
          ]
        }
      ]
    },
    {
      "cell_type": "code",
      "source": [
        "criterion = SGD(learning_rate = 0.01) #Empleamos learning rate\n",
        "model.compile(optimizer=criterion, loss='binary_crossentropy', metrics=['accuracy']) #Es un problema de clasificación, se utiliza la entropía cruzada y como métrica la accuracy. "
      ],
      "metadata": {
        "id": "Zp32ND0DAJnr"
      },
      "execution_count": 344,
      "outputs": []
    },
    {
      "cell_type": "code",
      "source": [
        "callbacks = [keras.callbacks.TensorBoard(),\n",
        "             keras.callbacks.EarlyStopping(patience=5, restore_best_weights=True)]\n",
        "\n",
        "model.fit(X_train_padded_seq, y_train_dl, validation_data=(X_val_padded_seq, y_val_dl), batch_size=20, epochs=100, callbacks=callbacks)\n",
        "\n",
        "y_pred_model_val = model.predict(X_val_padded_seq)\n",
        "y_pred_model_train = model.predict(X_train_padded_seq)"
      ],
      "metadata": {
        "id": "wZ3icSgZI-cz",
        "colab": {
          "base_uri": "https://localhost:8080/"
        },
        "outputId": "bb0c0a43-192d-46f6-86e1-68e2f7efefcf"
      },
      "execution_count": 345,
      "outputs": [
        {
          "output_type": "stream",
          "name": "stdout",
          "text": [
            "Epoch 1/100\n",
            "343/343 [==============================] - 2s 4ms/step - loss: 0.6830 - accuracy: 0.5483 - val_loss: 0.6770 - val_accuracy: 0.5169\n",
            "Epoch 2/100\n",
            "343/343 [==============================] - 1s 3ms/step - loss: 0.6551 - accuracy: 0.6043 - val_loss: 0.6402 - val_accuracy: 0.6863\n",
            "Epoch 3/100\n",
            "343/343 [==============================] - 1s 4ms/step - loss: 0.6359 - accuracy: 0.6384 - val_loss: 0.6405 - val_accuracy: 0.7091\n",
            "Epoch 4/100\n",
            "343/343 [==============================] - 1s 3ms/step - loss: 0.6309 - accuracy: 0.6343 - val_loss: 0.5697 - val_accuracy: 0.7296\n",
            "Epoch 5/100\n",
            "343/343 [==============================] - 1s 3ms/step - loss: 0.6217 - accuracy: 0.6343 - val_loss: 0.6205 - val_accuracy: 0.6618\n",
            "Epoch 6/100\n",
            "343/343 [==============================] - 1s 3ms/step - loss: 0.6150 - accuracy: 0.6374 - val_loss: 0.6062 - val_accuracy: 0.7068\n",
            "Epoch 7/100\n",
            "343/343 [==============================] - 1s 3ms/step - loss: 0.6107 - accuracy: 0.6383 - val_loss: 0.5628 - val_accuracy: 0.7407\n",
            "Epoch 8/100\n",
            "343/343 [==============================] - 2s 4ms/step - loss: 0.5947 - accuracy: 0.6497 - val_loss: 0.5588 - val_accuracy: 0.7436\n",
            "Epoch 9/100\n",
            "343/343 [==============================] - 1s 4ms/step - loss: 0.5880 - accuracy: 0.6522 - val_loss: 0.5459 - val_accuracy: 0.7523\n",
            "Epoch 10/100\n",
            "343/343 [==============================] - 1s 4ms/step - loss: 0.5721 - accuracy: 0.6590 - val_loss: 0.5448 - val_accuracy: 0.7611\n",
            "Epoch 11/100\n",
            "343/343 [==============================] - 1s 3ms/step - loss: 0.5595 - accuracy: 0.6695 - val_loss: 0.5334 - val_accuracy: 0.7710\n",
            "Epoch 12/100\n",
            "343/343 [==============================] - 1s 3ms/step - loss: 0.5398 - accuracy: 0.6780 - val_loss: 0.5217 - val_accuracy: 0.7804\n",
            "Epoch 13/100\n",
            "343/343 [==============================] - 1s 3ms/step - loss: 0.5222 - accuracy: 0.6960 - val_loss: 0.5095 - val_accuracy: 0.7722\n",
            "Epoch 14/100\n",
            "343/343 [==============================] - 1s 3ms/step - loss: 0.4986 - accuracy: 0.7147 - val_loss: 0.4796 - val_accuracy: 0.7728\n",
            "Epoch 15/100\n",
            "343/343 [==============================] - 1s 4ms/step - loss: 0.4797 - accuracy: 0.7230 - val_loss: 0.4651 - val_accuracy: 0.7944\n",
            "Epoch 16/100\n",
            "343/343 [==============================] - 1s 4ms/step - loss: 0.4597 - accuracy: 0.7297 - val_loss: 0.4555 - val_accuracy: 0.7856\n",
            "Epoch 17/100\n",
            "343/343 [==============================] - 1s 3ms/step - loss: 0.4430 - accuracy: 0.7396 - val_loss: 0.4470 - val_accuracy: 0.7874\n",
            "Epoch 18/100\n",
            "343/343 [==============================] - 1s 3ms/step - loss: 0.4285 - accuracy: 0.7445 - val_loss: 0.4449 - val_accuracy: 0.7985\n",
            "Epoch 19/100\n",
            "343/343 [==============================] - 1s 4ms/step - loss: 0.4126 - accuracy: 0.7528 - val_loss: 0.4339 - val_accuracy: 0.7956\n",
            "Epoch 20/100\n",
            "343/343 [==============================] - 1s 4ms/step - loss: 0.4007 - accuracy: 0.7614 - val_loss: 0.4488 - val_accuracy: 0.7991\n",
            "Epoch 21/100\n",
            "343/343 [==============================] - 1s 4ms/step - loss: 0.3902 - accuracy: 0.7693 - val_loss: 0.4364 - val_accuracy: 0.8037\n",
            "Epoch 22/100\n",
            "343/343 [==============================] - 1s 3ms/step - loss: 0.3826 - accuracy: 0.7728 - val_loss: 0.4358 - val_accuracy: 0.7996\n",
            "Epoch 23/100\n",
            "343/343 [==============================] - 1s 3ms/step - loss: 0.3768 - accuracy: 0.7728 - val_loss: 0.4263 - val_accuracy: 0.7967\n",
            "Epoch 24/100\n",
            "343/343 [==============================] - 1s 3ms/step - loss: 0.3671 - accuracy: 0.7896 - val_loss: 0.4274 - val_accuracy: 0.7979\n",
            "Epoch 25/100\n",
            "343/343 [==============================] - 1s 3ms/step - loss: 0.3548 - accuracy: 0.7896 - val_loss: 0.4321 - val_accuracy: 0.8020\n",
            "Epoch 26/100\n",
            "343/343 [==============================] - 1s 3ms/step - loss: 0.3510 - accuracy: 0.7944 - val_loss: 0.4340 - val_accuracy: 0.7967\n",
            "Epoch 27/100\n",
            "343/343 [==============================] - 1s 4ms/step - loss: 0.3425 - accuracy: 0.8024 - val_loss: 0.4288 - val_accuracy: 0.7932\n",
            "Epoch 28/100\n",
            "343/343 [==============================] - 1s 4ms/step - loss: 0.3445 - accuracy: 0.7992 - val_loss: 0.4961 - val_accuracy: 0.7652\n",
            "54/54 [==============================] - 0s 1ms/step\n",
            "214/214 [==============================] - 0s 1ms/step\n"
          ]
        }
      ]
    },
    {
      "cell_type": "code",
      "source": [
        "y_pred_model_val = np.where(y_pred_model_val >= 0.5, 1, 0)\n",
        "y_pred_model_train = np.where(y_pred_model_train >= 0.5, 1, 0)\n"
      ],
      "metadata": {
        "id": "nkvDCaD1LUKU"
      },
      "execution_count": 347,
      "outputs": []
    },
    {
      "cell_type": "code",
      "source": [
        "report = classification_report(y_val_dl, y_pred_model_val, digits=4)\n",
        "print(report)"
      ],
      "metadata": {
        "id": "_-60Ys9jJbwt",
        "colab": {
          "base_uri": "https://localhost:8080/"
        },
        "outputId": "40da7add-ae5e-4443-c76d-abac69bacfc9"
      },
      "execution_count": 348,
      "outputs": [
        {
          "output_type": "stream",
          "name": "stdout",
          "text": [
            "              precision    recall  f1-score   support\n",
            "\n",
            "           0     0.8074    0.7606    0.7833       827\n",
            "           1     0.7878    0.8305    0.8086       885\n",
            "\n",
            "    accuracy                         0.7967      1712\n",
            "   macro avg     0.7976    0.7955    0.7959      1712\n",
            "weighted avg     0.7973    0.7967    0.7964      1712\n",
            "\n"
          ]
        }
      ]
    },
    {
      "cell_type": "code",
      "source": [
        "report = classification_report(y_train_dl, y_pred_model_train, digits=4)\n",
        "print(report)"
      ],
      "metadata": {
        "id": "xuD72-MmzJ3h",
        "colab": {
          "base_uri": "https://localhost:8080/"
        },
        "outputId": "4ebe0b82-cbba-41eb-e7a5-e907702f53fe"
      },
      "execution_count": 323,
      "outputs": [
        {
          "output_type": "stream",
          "name": "stdout",
          "text": [
            "              precision    recall  f1-score   support\n",
            "\n",
            "           0     0.9042    0.9056    0.9049      3253\n",
            "           1     0.9145    0.9132    0.9138      3595\n",
            "\n",
            "    accuracy                         0.9096      6848\n",
            "   macro avg     0.9094    0.9094    0.9094      6848\n",
            "weighted avg     0.9096    0.9096    0.9096      6848\n",
            "\n"
          ]
        }
      ]
    },
    {
      "cell_type": "markdown",
      "source": [
        "**Descarga del archivo**"
      ],
      "metadata": {
        "id": "lsYiBvy5zgPq"
      }
    },
    {
      "cell_type": "code",
      "source": [
        "# En este caso la predicción se está realizando con Random Forest Classifier.\n",
        "\n",
        "y_test_pred = rf.predict(X_test)"
      ],
      "metadata": {
        "id": "xhsNmxPonI5p"
      },
      "execution_count": null,
      "outputs": []
    },
    {
      "cell_type": "code",
      "source": [
        "pred_pd = pd.DataFrame(y_test_pred, columns = ['label'], index = range(1, 2141)) \n",
        "\n",
        "pred_pd.to_csv('submission_1.csv', index_label = 'id')"
      ],
      "metadata": {
        "id": "2UvwjYRImwpi"
      },
      "execution_count": null,
      "outputs": []
    },
    {
      "cell_type": "markdown",
      "source": [
        "**Modelo con Tfldf, Stop Word Removal y Reduce to a Root**"
      ],
      "metadata": {
        "id": "-7IYEJ7uptCt"
      }
    },
    {
      "cell_type": "code",
      "source": [
        "X = corpus['tweet'] \n",
        "Y = corpus['label']"
      ],
      "metadata": {
        "id": "8BurtRmbp4-q"
      },
      "execution_count": 349,
      "outputs": []
    },
    {
      "cell_type": "code",
      "source": [
        "X_test = test[\"tweet\"]"
      ],
      "metadata": {
        "id": "UIbKD-e8qLL2"
      },
      "execution_count": 350,
      "outputs": []
    },
    {
      "cell_type": "code",
      "source": [
        "X_train, X_val, y_train, y_val = train_test_split(X, Y, test_size = 0.2, random_state = 1) "
      ],
      "metadata": {
        "id": "WpwSRXAcqQVv"
      },
      "execution_count": 351,
      "outputs": []
    },
    {
      "cell_type": "code",
      "source": [
        "vectorizer = TfidfVectorizer(stop_words = nltk.corpus.stopwords.words('english'), max_features = 1500)"
      ],
      "metadata": {
        "id": "-Y8EnU-QqQWV"
      },
      "execution_count": 352,
      "outputs": []
    },
    {
      "cell_type": "code",
      "source": [
        "use_wordcount = False\n",
        "use_charcount = True\n",
        "use_hashtagcount = True\n",
        "use_atsigncount = True\n",
        "use_percentsigncount = True\n",
        "use_linkcount = True\n",
        "use_lettercount = False\n",
        "\n",
        "vectorizer.fit(X_train)\n",
        "\n",
        "X_train = vectorizer.transform(X_train)\n",
        "X_val = vectorizer.transform(X_val)\n",
        "\n",
        "if use_wordcount:\n",
        "  X_train = hstack((X_train,np.array(X_train_wordcount)[:,None]))\n",
        "  X_val = hstack((X_val,np.array(X_val_wordcount)[:,None]))\n",
        "\n",
        "if use_charcount:\n",
        "  X_train = hstack((X_train,np.array(X_train_charcount)[:,None]))\n",
        "  X_val = hstack((X_val,np.array(X_val_charcount)[:,None]))\n",
        "\n",
        "if use_hashtagcount:\n",
        "  X_train = hstack((X_train,np.array(X_train_hashtagcount)[:,None]))\n",
        "  X_val = hstack((X_val,np.array(X_val_hashtagcount)[:,None]))\n",
        "\n",
        "if use_atsigncount:\n",
        "  X_train = hstack((X_train,np.array(X_train_atsigncount)[:,None]))\n",
        "  X_val = hstack((X_val,np.array(X_val_atsigncount)[:,None]))\n",
        "\n",
        "if use_percentsigncount:\n",
        "  X_train = hstack((X_train,np.array(X_train_percentsigncount)[:,None]))\n",
        "  X_val = hstack((X_val,np.array(X_val_percentsigncount)[:,None]))\n",
        "\n",
        "if use_linkcount:\n",
        "  X_train = hstack((X_train,np.array(X_train_linkcount)[:,None]))\n",
        "  X_val = hstack((X_val,np.array(X_val_linkcount)[:,None]))\n",
        "\n",
        "if use_lettercount:\n",
        "  X_train = hstack((X_train,np.array(X_train_lettercount)[:,None]))\n",
        "  X_val = hstack((X_val,np.array(X_val_lettercount)[:,None]))"
      ],
      "metadata": {
        "id": "tMtOkJFaJS9O"
      },
      "execution_count": 360,
      "outputs": []
    },
    {
      "cell_type": "code",
      "source": [
        "X_test = vectorizer.transform(X_test)\n",
        "\n",
        "if use_wordcount:\n",
        "  X_test = hstack((X_test,np.array(X_test_wordcount)[:,None]))\n",
        "\n",
        "if use_charcount:\n",
        "  X_test = hstack((X_test,np.array(X_test_charcount)[:,None]))\n",
        "\n",
        "if use_hashtagcount:\n",
        "  X_test = hstack((X_test,np.array(X_test_hashtagcount)[:,None]))\n",
        "\n",
        "if use_atsigncount:\n",
        "  X_test = hstack((X_test,np.array(X_test_atsigncount)[:,None]))\n",
        "\n",
        "if use_percentsigncount:\n",
        "  X_test = hstack((X_test,np.array(X_test_percentsigncount)[:,None]))\n",
        "\n",
        "if use_linkcount:\n",
        "  X_test = hstack((X_test,np.array(X_test_linkcount)[:,None]))\n",
        "\n",
        "if use_lettercount:\n",
        "  X_test = hstack((X_test,np.array(X_test_lettercount)[:,None]))"
      ],
      "metadata": {
        "id": "bkOaQuomJS99"
      },
      "execution_count": 361,
      "outputs": []
    },
    {
      "cell_type": "code",
      "source": [
        "columns = vectorizer.get_feature_names_out()\n",
        "\n",
        "if use_wordcount:\n",
        "  columns = np.concatenate([columns,['word count']])\n",
        "\n",
        "if use_charcount:\n",
        "  columns = np.concatenate([columns,['char count']])\n",
        "\n",
        "if use_hashtagcount:\n",
        "  columns = np.concatenate([columns,['hashtag count']])\n",
        "\n",
        "if use_atsigncount:\n",
        "  columns = np.concatenate([columns,['at sign count']])\n",
        "\n",
        "if use_percentsigncount:\n",
        "  columns = np.concatenate([columns,['percent sign count']])\n",
        "\n",
        "if use_linkcount:\n",
        "  columns = np.concatenate([columns,['link count']])\n",
        "\n",
        "if use_lettercount:\n",
        "  columns = np.concatenate([columns,['letter count']])\n",
        "\n",
        "tablero = pd.DataFrame(X_train.toarray(), columns=columns)\n",
        "tablero"
      ],
      "metadata": {
        "id": "aH7WS6VLJ2xd",
        "colab": {
          "base_uri": "https://localhost:8080/",
          "height": 522
        },
        "outputId": "e355469a-6961-4d7d-a79d-6e29fede6118"
      },
      "execution_count": 362,
      "outputs": [
        {
          "output_type": "execute_result",
          "data": {
            "text/plain": [
              "       00  000   08   09   10  100  1000  10000  100000  10pm  ...  zealand  \\\n",
              "0     0.0  0.0  0.0  0.0  0.0  0.0   0.0    0.0     0.0   0.0  ...      0.0   \n",
              "1     0.0  0.0  0.0  0.0  0.0  0.0   0.0    0.0     0.0   0.0  ...      0.0   \n",
              "2     0.0  0.0  0.0  0.0  0.0  0.0   0.0    0.0     0.0   0.0  ...      0.0   \n",
              "3     0.0  0.0  0.0  0.0  0.0  0.0   0.0    0.0     0.0   0.0  ...      0.0   \n",
              "4     0.0  0.0  0.0  0.0  0.0  0.0   0.0    0.0     0.0   0.0  ...      0.0   \n",
              "...   ...  ...  ...  ...  ...  ...   ...    ...     ...   ...  ...      ...   \n",
              "6843  0.0  0.0  0.0  0.0  0.0  0.0   0.0    0.0     0.0   0.0  ...      0.0   \n",
              "6844  0.0  0.0  0.0  0.0  0.0  0.0   0.0    0.0     0.0   0.0  ...      0.0   \n",
              "6845  0.0  0.0  0.0  0.0  0.0  0.0   0.0    0.0     0.0   0.0  ...      0.0   \n",
              "6846  0.0  0.0  0.0  0.0  0.0  0.0   0.0    0.0     0.0   0.0  ...      0.0   \n",
              "6847  0.0  0.0  0.0  0.0  0.0  0.0   0.0    0.0     0.0   0.0  ...      0.0   \n",
              "\n",
              "      zero  zinc  zp4vylo0pb  zqrpneofet  char count  hashtag count  \\\n",
              "0      0.0   0.0         0.0         0.0       224.0            4.0   \n",
              "1      0.0   0.0         0.0         0.0       282.0            2.0   \n",
              "2      0.0   0.0         0.0         0.0       277.0            2.0   \n",
              "3      0.0   0.0         0.0         0.0       169.0            0.0   \n",
              "4      0.0   0.0         0.0         0.0       205.0            0.0   \n",
              "...    ...   ...         ...         ...         ...            ...   \n",
              "6843   0.0   0.0         0.0         0.0       230.0            0.0   \n",
              "6844   0.0   0.0         0.0         0.0       123.0            0.0   \n",
              "6845   0.0   0.0         0.0         0.0       243.0            4.0   \n",
              "6846   0.0   0.0         0.0         0.0       256.0            1.0   \n",
              "6847   0.0   0.0         0.0         0.0       103.0            2.0   \n",
              "\n",
              "      at sign count  percent sign count  link count  \n",
              "0               0.0                 0.0         1.0  \n",
              "1               0.0                 0.0         2.0  \n",
              "2               0.0                 0.0         1.0  \n",
              "3               0.0                 0.0         0.0  \n",
              "4               0.0                 0.0         1.0  \n",
              "...             ...                 ...         ...  \n",
              "6843            0.0                 0.0         2.0  \n",
              "6844            0.0                 0.0         0.0  \n",
              "6845            3.0                 0.0         1.0  \n",
              "6846            0.0                 0.0         2.0  \n",
              "6847            0.0                 0.0         2.0  \n",
              "\n",
              "[6848 rows x 1505 columns]"
            ],
            "text/html": [
              "\n",
              "  <div id=\"df-6026a67a-0581-47ba-bfed-988a33d814de\">\n",
              "    <div class=\"colab-df-container\">\n",
              "      <div>\n",
              "<style scoped>\n",
              "    .dataframe tbody tr th:only-of-type {\n",
              "        vertical-align: middle;\n",
              "    }\n",
              "\n",
              "    .dataframe tbody tr th {\n",
              "        vertical-align: top;\n",
              "    }\n",
              "\n",
              "    .dataframe thead th {\n",
              "        text-align: right;\n",
              "    }\n",
              "</style>\n",
              "<table border=\"1\" class=\"dataframe\">\n",
              "  <thead>\n",
              "    <tr style=\"text-align: right;\">\n",
              "      <th></th>\n",
              "      <th>00</th>\n",
              "      <th>000</th>\n",
              "      <th>08</th>\n",
              "      <th>09</th>\n",
              "      <th>10</th>\n",
              "      <th>100</th>\n",
              "      <th>1000</th>\n",
              "      <th>10000</th>\n",
              "      <th>100000</th>\n",
              "      <th>10pm</th>\n",
              "      <th>...</th>\n",
              "      <th>zealand</th>\n",
              "      <th>zero</th>\n",
              "      <th>zinc</th>\n",
              "      <th>zp4vylo0pb</th>\n",
              "      <th>zqrpneofet</th>\n",
              "      <th>char count</th>\n",
              "      <th>hashtag count</th>\n",
              "      <th>at sign count</th>\n",
              "      <th>percent sign count</th>\n",
              "      <th>link count</th>\n",
              "    </tr>\n",
              "  </thead>\n",
              "  <tbody>\n",
              "    <tr>\n",
              "      <th>0</th>\n",
              "      <td>0.0</td>\n",
              "      <td>0.0</td>\n",
              "      <td>0.0</td>\n",
              "      <td>0.0</td>\n",
              "      <td>0.0</td>\n",
              "      <td>0.0</td>\n",
              "      <td>0.0</td>\n",
              "      <td>0.0</td>\n",
              "      <td>0.0</td>\n",
              "      <td>0.0</td>\n",
              "      <td>...</td>\n",
              "      <td>0.0</td>\n",
              "      <td>0.0</td>\n",
              "      <td>0.0</td>\n",
              "      <td>0.0</td>\n",
              "      <td>0.0</td>\n",
              "      <td>224.0</td>\n",
              "      <td>4.0</td>\n",
              "      <td>0.0</td>\n",
              "      <td>0.0</td>\n",
              "      <td>1.0</td>\n",
              "    </tr>\n",
              "    <tr>\n",
              "      <th>1</th>\n",
              "      <td>0.0</td>\n",
              "      <td>0.0</td>\n",
              "      <td>0.0</td>\n",
              "      <td>0.0</td>\n",
              "      <td>0.0</td>\n",
              "      <td>0.0</td>\n",
              "      <td>0.0</td>\n",
              "      <td>0.0</td>\n",
              "      <td>0.0</td>\n",
              "      <td>0.0</td>\n",
              "      <td>...</td>\n",
              "      <td>0.0</td>\n",
              "      <td>0.0</td>\n",
              "      <td>0.0</td>\n",
              "      <td>0.0</td>\n",
              "      <td>0.0</td>\n",
              "      <td>282.0</td>\n",
              "      <td>2.0</td>\n",
              "      <td>0.0</td>\n",
              "      <td>0.0</td>\n",
              "      <td>2.0</td>\n",
              "    </tr>\n",
              "    <tr>\n",
              "      <th>2</th>\n",
              "      <td>0.0</td>\n",
              "      <td>0.0</td>\n",
              "      <td>0.0</td>\n",
              "      <td>0.0</td>\n",
              "      <td>0.0</td>\n",
              "      <td>0.0</td>\n",
              "      <td>0.0</td>\n",
              "      <td>0.0</td>\n",
              "      <td>0.0</td>\n",
              "      <td>0.0</td>\n",
              "      <td>...</td>\n",
              "      <td>0.0</td>\n",
              "      <td>0.0</td>\n",
              "      <td>0.0</td>\n",
              "      <td>0.0</td>\n",
              "      <td>0.0</td>\n",
              "      <td>277.0</td>\n",
              "      <td>2.0</td>\n",
              "      <td>0.0</td>\n",
              "      <td>0.0</td>\n",
              "      <td>1.0</td>\n",
              "    </tr>\n",
              "    <tr>\n",
              "      <th>3</th>\n",
              "      <td>0.0</td>\n",
              "      <td>0.0</td>\n",
              "      <td>0.0</td>\n",
              "      <td>0.0</td>\n",
              "      <td>0.0</td>\n",
              "      <td>0.0</td>\n",
              "      <td>0.0</td>\n",
              "      <td>0.0</td>\n",
              "      <td>0.0</td>\n",
              "      <td>0.0</td>\n",
              "      <td>...</td>\n",
              "      <td>0.0</td>\n",
              "      <td>0.0</td>\n",
              "      <td>0.0</td>\n",
              "      <td>0.0</td>\n",
              "      <td>0.0</td>\n",
              "      <td>169.0</td>\n",
              "      <td>0.0</td>\n",
              "      <td>0.0</td>\n",
              "      <td>0.0</td>\n",
              "      <td>0.0</td>\n",
              "    </tr>\n",
              "    <tr>\n",
              "      <th>4</th>\n",
              "      <td>0.0</td>\n",
              "      <td>0.0</td>\n",
              "      <td>0.0</td>\n",
              "      <td>0.0</td>\n",
              "      <td>0.0</td>\n",
              "      <td>0.0</td>\n",
              "      <td>0.0</td>\n",
              "      <td>0.0</td>\n",
              "      <td>0.0</td>\n",
              "      <td>0.0</td>\n",
              "      <td>...</td>\n",
              "      <td>0.0</td>\n",
              "      <td>0.0</td>\n",
              "      <td>0.0</td>\n",
              "      <td>0.0</td>\n",
              "      <td>0.0</td>\n",
              "      <td>205.0</td>\n",
              "      <td>0.0</td>\n",
              "      <td>0.0</td>\n",
              "      <td>0.0</td>\n",
              "      <td>1.0</td>\n",
              "    </tr>\n",
              "    <tr>\n",
              "      <th>...</th>\n",
              "      <td>...</td>\n",
              "      <td>...</td>\n",
              "      <td>...</td>\n",
              "      <td>...</td>\n",
              "      <td>...</td>\n",
              "      <td>...</td>\n",
              "      <td>...</td>\n",
              "      <td>...</td>\n",
              "      <td>...</td>\n",
              "      <td>...</td>\n",
              "      <td>...</td>\n",
              "      <td>...</td>\n",
              "      <td>...</td>\n",
              "      <td>...</td>\n",
              "      <td>...</td>\n",
              "      <td>...</td>\n",
              "      <td>...</td>\n",
              "      <td>...</td>\n",
              "      <td>...</td>\n",
              "      <td>...</td>\n",
              "      <td>...</td>\n",
              "    </tr>\n",
              "    <tr>\n",
              "      <th>6843</th>\n",
              "      <td>0.0</td>\n",
              "      <td>0.0</td>\n",
              "      <td>0.0</td>\n",
              "      <td>0.0</td>\n",
              "      <td>0.0</td>\n",
              "      <td>0.0</td>\n",
              "      <td>0.0</td>\n",
              "      <td>0.0</td>\n",
              "      <td>0.0</td>\n",
              "      <td>0.0</td>\n",
              "      <td>...</td>\n",
              "      <td>0.0</td>\n",
              "      <td>0.0</td>\n",
              "      <td>0.0</td>\n",
              "      <td>0.0</td>\n",
              "      <td>0.0</td>\n",
              "      <td>230.0</td>\n",
              "      <td>0.0</td>\n",
              "      <td>0.0</td>\n",
              "      <td>0.0</td>\n",
              "      <td>2.0</td>\n",
              "    </tr>\n",
              "    <tr>\n",
              "      <th>6844</th>\n",
              "      <td>0.0</td>\n",
              "      <td>0.0</td>\n",
              "      <td>0.0</td>\n",
              "      <td>0.0</td>\n",
              "      <td>0.0</td>\n",
              "      <td>0.0</td>\n",
              "      <td>0.0</td>\n",
              "      <td>0.0</td>\n",
              "      <td>0.0</td>\n",
              "      <td>0.0</td>\n",
              "      <td>...</td>\n",
              "      <td>0.0</td>\n",
              "      <td>0.0</td>\n",
              "      <td>0.0</td>\n",
              "      <td>0.0</td>\n",
              "      <td>0.0</td>\n",
              "      <td>123.0</td>\n",
              "      <td>0.0</td>\n",
              "      <td>0.0</td>\n",
              "      <td>0.0</td>\n",
              "      <td>0.0</td>\n",
              "    </tr>\n",
              "    <tr>\n",
              "      <th>6845</th>\n",
              "      <td>0.0</td>\n",
              "      <td>0.0</td>\n",
              "      <td>0.0</td>\n",
              "      <td>0.0</td>\n",
              "      <td>0.0</td>\n",
              "      <td>0.0</td>\n",
              "      <td>0.0</td>\n",
              "      <td>0.0</td>\n",
              "      <td>0.0</td>\n",
              "      <td>0.0</td>\n",
              "      <td>...</td>\n",
              "      <td>0.0</td>\n",
              "      <td>0.0</td>\n",
              "      <td>0.0</td>\n",
              "      <td>0.0</td>\n",
              "      <td>0.0</td>\n",
              "      <td>243.0</td>\n",
              "      <td>4.0</td>\n",
              "      <td>3.0</td>\n",
              "      <td>0.0</td>\n",
              "      <td>1.0</td>\n",
              "    </tr>\n",
              "    <tr>\n",
              "      <th>6846</th>\n",
              "      <td>0.0</td>\n",
              "      <td>0.0</td>\n",
              "      <td>0.0</td>\n",
              "      <td>0.0</td>\n",
              "      <td>0.0</td>\n",
              "      <td>0.0</td>\n",
              "      <td>0.0</td>\n",
              "      <td>0.0</td>\n",
              "      <td>0.0</td>\n",
              "      <td>0.0</td>\n",
              "      <td>...</td>\n",
              "      <td>0.0</td>\n",
              "      <td>0.0</td>\n",
              "      <td>0.0</td>\n",
              "      <td>0.0</td>\n",
              "      <td>0.0</td>\n",
              "      <td>256.0</td>\n",
              "      <td>1.0</td>\n",
              "      <td>0.0</td>\n",
              "      <td>0.0</td>\n",
              "      <td>2.0</td>\n",
              "    </tr>\n",
              "    <tr>\n",
              "      <th>6847</th>\n",
              "      <td>0.0</td>\n",
              "      <td>0.0</td>\n",
              "      <td>0.0</td>\n",
              "      <td>0.0</td>\n",
              "      <td>0.0</td>\n",
              "      <td>0.0</td>\n",
              "      <td>0.0</td>\n",
              "      <td>0.0</td>\n",
              "      <td>0.0</td>\n",
              "      <td>0.0</td>\n",
              "      <td>...</td>\n",
              "      <td>0.0</td>\n",
              "      <td>0.0</td>\n",
              "      <td>0.0</td>\n",
              "      <td>0.0</td>\n",
              "      <td>0.0</td>\n",
              "      <td>103.0</td>\n",
              "      <td>2.0</td>\n",
              "      <td>0.0</td>\n",
              "      <td>0.0</td>\n",
              "      <td>2.0</td>\n",
              "    </tr>\n",
              "  </tbody>\n",
              "</table>\n",
              "<p>6848 rows × 1505 columns</p>\n",
              "</div>\n",
              "      <button class=\"colab-df-convert\" onclick=\"convertToInteractive('df-6026a67a-0581-47ba-bfed-988a33d814de')\"\n",
              "              title=\"Convert this dataframe to an interactive table.\"\n",
              "              style=\"display:none;\">\n",
              "        \n",
              "  <svg xmlns=\"http://www.w3.org/2000/svg\" height=\"24px\"viewBox=\"0 0 24 24\"\n",
              "       width=\"24px\">\n",
              "    <path d=\"M0 0h24v24H0V0z\" fill=\"none\"/>\n",
              "    <path d=\"M18.56 5.44l.94 2.06.94-2.06 2.06-.94-2.06-.94-.94-2.06-.94 2.06-2.06.94zm-11 1L8.5 8.5l.94-2.06 2.06-.94-2.06-.94L8.5 2.5l-.94 2.06-2.06.94zm10 10l.94 2.06.94-2.06 2.06-.94-2.06-.94-.94-2.06-.94 2.06-2.06.94z\"/><path d=\"M17.41 7.96l-1.37-1.37c-.4-.4-.92-.59-1.43-.59-.52 0-1.04.2-1.43.59L10.3 9.45l-7.72 7.72c-.78.78-.78 2.05 0 2.83L4 21.41c.39.39.9.59 1.41.59.51 0 1.02-.2 1.41-.59l7.78-7.78 2.81-2.81c.8-.78.8-2.07 0-2.86zM5.41 20L4 18.59l7.72-7.72 1.47 1.35L5.41 20z\"/>\n",
              "  </svg>\n",
              "      </button>\n",
              "      \n",
              "  <style>\n",
              "    .colab-df-container {\n",
              "      display:flex;\n",
              "      flex-wrap:wrap;\n",
              "      gap: 12px;\n",
              "    }\n",
              "\n",
              "    .colab-df-convert {\n",
              "      background-color: #E8F0FE;\n",
              "      border: none;\n",
              "      border-radius: 50%;\n",
              "      cursor: pointer;\n",
              "      display: none;\n",
              "      fill: #1967D2;\n",
              "      height: 32px;\n",
              "      padding: 0 0 0 0;\n",
              "      width: 32px;\n",
              "    }\n",
              "\n",
              "    .colab-df-convert:hover {\n",
              "      background-color: #E2EBFA;\n",
              "      box-shadow: 0px 1px 2px rgba(60, 64, 67, 0.3), 0px 1px 3px 1px rgba(60, 64, 67, 0.15);\n",
              "      fill: #174EA6;\n",
              "    }\n",
              "\n",
              "    [theme=dark] .colab-df-convert {\n",
              "      background-color: #3B4455;\n",
              "      fill: #D2E3FC;\n",
              "    }\n",
              "\n",
              "    [theme=dark] .colab-df-convert:hover {\n",
              "      background-color: #434B5C;\n",
              "      box-shadow: 0px 1px 3px 1px rgba(0, 0, 0, 0.15);\n",
              "      filter: drop-shadow(0px 1px 2px rgba(0, 0, 0, 0.3));\n",
              "      fill: #FFFFFF;\n",
              "    }\n",
              "  </style>\n",
              "\n",
              "      <script>\n",
              "        const buttonEl =\n",
              "          document.querySelector('#df-6026a67a-0581-47ba-bfed-988a33d814de button.colab-df-convert');\n",
              "        buttonEl.style.display =\n",
              "          google.colab.kernel.accessAllowed ? 'block' : 'none';\n",
              "\n",
              "        async function convertToInteractive(key) {\n",
              "          const element = document.querySelector('#df-6026a67a-0581-47ba-bfed-988a33d814de');\n",
              "          const dataTable =\n",
              "            await google.colab.kernel.invokeFunction('convertToInteractive',\n",
              "                                                     [key], {});\n",
              "          if (!dataTable) return;\n",
              "\n",
              "          const docLinkHtml = 'Like what you see? Visit the ' +\n",
              "            '<a target=\"_blank\" href=https://colab.research.google.com/notebooks/data_table.ipynb>data table notebook</a>'\n",
              "            + ' to learn more about interactive tables.';\n",
              "          element.innerHTML = '';\n",
              "          dataTable['output_type'] = 'display_data';\n",
              "          await google.colab.output.renderOutput(dataTable, element);\n",
              "          const docLink = document.createElement('div');\n",
              "          docLink.innerHTML = docLinkHtml;\n",
              "          element.appendChild(docLink);\n",
              "        }\n",
              "      </script>\n",
              "    </div>\n",
              "  </div>\n",
              "  "
            ]
          },
          "metadata": {},
          "execution_count": 362
        }
      ]
    },
    {
      "cell_type": "markdown",
      "source": [
        "**Reduce to a Root**"
      ],
      "metadata": {
        "id": "nktzaXDXrmnl"
      }
    },
    {
      "cell_type": "code",
      "metadata": {
        "id": "A_ZtS7AUv3Iq"
      },
      "source": [
        "# Stemmer\n",
        "\n",
        "from nltk.stem.snowball import SnowballStemmer\n",
        "\n",
        "stemmer = SnowballStemmer(language = 'english')\n",
        "analyzer = TfidfVectorizer().build_analyzer()\n",
        "\n",
        "def stemmed_words(doc):\n",
        "  return (stemmer.stem(w) for w in analyzer(doc))\n",
        "\n",
        "vectorizer = TfidfVectorizer(analyzer=stemmed_words, stop_words = nltk.corpus.stopwords.words('english'), max_df = 0.95)"
      ],
      "execution_count": null,
      "outputs": []
    },
    {
      "cell_type": "code",
      "source": [
        "# Lemmatizer\n",
        "\n",
        "from nltk.stem import WordNetLemmatizer \n",
        "import nltk\n",
        "nltk.download('wordnet')\n",
        "nltk.download('omw-1.4')\n",
        "\n",
        "lemmatizer = WordNetLemmatizer()\n",
        "\n",
        "def lemmatized_words(doc):\n",
        "    return (lemmatizer.lemmatize(w.lower()) for w in doc.split())\n",
        "\n",
        "vectorizer = TfidfVectorizer(analyzer = lemmatized_words, stop_words = nltk.corpus.stopwords.words('english'), max_df = 0.95)"
      ],
      "metadata": {
        "id": "WPAF3osnxQ5x"
      },
      "execution_count": null,
      "outputs": []
    },
    {
      "cell_type": "markdown",
      "source": [
        "**Funciones**"
      ],
      "metadata": {
        "id": "dv_9nLzB5Kw5"
      }
    },
    {
      "cell_type": "code",
      "source": [
        "# Contar caracteres de un string\n",
        "\n",
        "countCharacters = (lambda x : len(x))\n",
        "\n",
        "X_train_charcount = (X_train).apply(countCharacters)\n",
        "X_val_charcount = (X_val).apply(countCharacters)\n",
        "X_test_charcount = (X_test).apply(countCharacters)"
      ],
      "metadata": {
        "id": "qf5ZWR9r5Os_"
      },
      "execution_count": 353,
      "outputs": []
    },
    {
      "cell_type": "code",
      "source": [
        "# Contar palabras de un string\n",
        "\n",
        "countWords = (lambda x : len(x.split()))\n",
        "\n",
        "X_train_wordcount = (X_train).apply(countWords)\n",
        "X_val_wordcount = (X_val).apply(countWords)\n",
        "X_test_wordcount = (X_test).apply(countWords)"
      ],
      "metadata": {
        "id": "XZCNxUKYL_Rx"
      },
      "execution_count": 354,
      "outputs": []
    },
    {
      "cell_type": "code",
      "source": [
        "# Contar hashtags de un string\n",
        "\n",
        "countHashtags = (lambda x: len(re.findall(r\"#(\\w+)\", x)))\n",
        "\n",
        "X_train_hashtagcount = (X_train).apply(countHashtags)\n",
        "X_val_hashtagcount = (X_val).apply(countHashtags)\n",
        "X_test_hashtagcount = (X_test).apply(countHashtags)"
      ],
      "metadata": {
        "id": "jIYX5Af5IiP1"
      },
      "execution_count": 355,
      "outputs": []
    },
    {
      "cell_type": "code",
      "source": [
        "# Contar arrobas de un string\n",
        "\n",
        "countAtSigns = (lambda x: len(re.findall(r\"@(\\w+)\", x)))\n",
        "\n",
        "X_train_atsigncount = (X_train).apply(countAtSigns)\n",
        "X_val_atsigncount = (X_val).apply(countAtSigns)\n",
        "X_test_atsigncount = (X_test).apply(countAtSigns)"
      ],
      "metadata": {
        "id": "cYvkRppXIkqr"
      },
      "execution_count": 356,
      "outputs": []
    },
    {
      "cell_type": "code",
      "source": [
        "# Contar signos de porcentaje de un string\n",
        "\n",
        "countPercentSigns = (lambda x: len(re.findall(r\"%(\\w+)\", x)))\n",
        "\n",
        "X_train_percentsigncount = (X_train).apply(countPercentSigns)\n",
        "X_val_percentsigncount = (X_val).apply(countPercentSigns)\n",
        "X_test_percentsigncount = (X_test).apply(countPercentSigns)"
      ],
      "metadata": {
        "id": "PzUY93X0Eisd"
      },
      "execution_count": 357,
      "outputs": []
    },
    {
      "cell_type": "code",
      "source": [
        "# Contar cuantos links (http) en un string\n",
        "\n",
        "countLinks = (lambda x: x.count(\"http\"))\n",
        "\n",
        "X_train_linkcount = (X_train).apply(countLinks)\n",
        "X_val_linkcount = (X_val).apply(countLinks)\n",
        "X_test_linkcount = (X_test).apply(countLinks)"
      ],
      "metadata": {
        "id": "Zzk5qLpAEjHO"
      },
      "execution_count": 358,
      "outputs": []
    },
    {
      "cell_type": "code",
      "source": [
        "# Contar letras en un string\n",
        "\n",
        "countLetters = (lambda x: sum(c.isalpha() for c in x))\n",
        "\n",
        "X_train_lettercount = (X_train).apply(countLetters)\n",
        "X_val_lettercount = (X_val).apply(countLetters)\n",
        "X_test_lettercount = (X_test).apply(countLetters)"
      ],
      "metadata": {
        "id": "CmklnPTnEjVh"
      },
      "execution_count": 359,
      "outputs": []
    }
  ]
}